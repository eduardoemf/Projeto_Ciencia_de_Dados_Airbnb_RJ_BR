{
 "cells": [
  {
   "cell_type": "markdown",
   "metadata": {},
   "source": [
    "# Projeto Airbnb Rio - Ferramenta de Previsão de Preço de Imóvel para pessoas comuns "
   ]
  },
  {
   "cell_type": "markdown",
   "metadata": {},
   "source": [
    "## Introdução"
   ]
  },
  {
   "cell_type": "markdown",
   "metadata": {},
   "source": [
    "### Contexto\n",
    "\n",
    "No Airbnb, qualquer pessoa que tenha um quarto ou um imóvel de qualquer tipo (apartamento, casa, chalé, pousada, etc.) pode ofertar o seu imóvel para ser alugado por diária.\n",
    "\n",
    "Você cria o seu perfil de host (pessoa que disponibiliza um imóvel para aluguel por diária) e cria o anúncio do seu imóvel.\n",
    "\n",
    "Nesse anúncio, o host deve descrever as características do imóvel da forma mais completa possível, de forma a ajudar os locadores/viajantes a escolherem o melhor imóvel para eles (e de forma a tornar o seu anúncio mais atrativo)\n",
    "\n",
    "Existem dezenas de personalizações possíveis no seu anúncio, desde quantidade mínima de diária, preço, quantidade de quartos, até regras de cancelamento, taxa extra para hóspedes extras, exigência de verificação de identidade do locador, etc.\n",
    "\n",
    "### Nosso objetivo\n",
    "\n",
    "Construir um modelo de previsão de preço que permita uma pessoa comum que possui um imóvel possa saber quanto deve cobrar pela diária do seu imóvel.\n",
    "\n",
    "Ou ainda, para o locador comum, dado o imóvel que ele está buscando, ajudar a saber se aquele imóvel está com preço atrativo (abaixo da média para imóveis com as mesmas características) ou não.\n",
    "\n",
    "### O que temos disponível, inspirações e créditos\n",
    "\n",
    "As bases de dados foram retiradas do site kaggle: https://www.kaggle.com/allanbruno/airbnb-rio-de-janeiro\n",
    "\n",
    "Elas estão disponíveis para download abaixo da aula (se você puxar os dados direto do Kaggle pode ser que encontre resultados diferentes dos meus, afinal as bases de dados podem ter sido atualizadas).\n",
    "\n",
    "Caso queira uma outra solução, podemos olhar como referência a solução do usuário Allan Bruno do kaggle no Notebook: https://www.kaggle.com/allanbruno/helping-regular-people-price-listings-on-airbnb\n",
    "\n",
    "Você vai perceber semelhanças entre a solução que vamos desenvolver aqui e a dele, mas também algumas diferenças significativas no processo de construção do projeto.\n",
    "\n",
    "- As bases de dados são os preços dos imóveis obtidos e suas respectivas características em cada mês.\n",
    "- Os preços são dados em reais (R$)\n",
    "- Temos bases de abril de 2018 a maio de 2020, com exceção de junho de 2018 que não possui base de dados\n",
    "\n",
    "### Expectativas Iniciais\n",
    "\n",
    "- Acredito que a sazonalidade pode ser um fator importante, visto que meses como dezembro costumam ser bem caros no RJ\n",
    "- A localização do imóvel deve fazer muita diferença no preço, já que no Rio de Janeiro a localização pode mudar completamente as características do lugar (segurança, beleza natural, pontos turísticos)\n",
    "- Adicionais/Comodidades podem ter um impacto significativo, visto que temos muitos prédios e casas antigos no Rio de Janeiro\n",
    "\n",
    "Vamos descobrir o quanto esses fatores impactam e se temos outros fatores não tão intuitivos que são extremamente importantes."
   ]
  },
  {
   "cell_type": "markdown",
   "metadata": {},
   "source": [
    "## Códigos"
   ]
  },
  {
   "cell_type": "markdown",
   "metadata": {},
   "source": [
    "### Importar Bibliotecas e Bases de Dados"
   ]
  },
  {
   "cell_type": "code",
   "execution_count": 33,
   "metadata": {},
   "outputs": [],
   "source": [
    "import pandas as pd\n",
    "import pathlib\n",
    "import numpy as np\n",
    "import warnings # Biblioteca usada para ocultar os avisos do Executor do Terminal\n",
    "\n",
    "warnings.filterwarnings('ignore')\n",
    "warnings.warn('DelftStack')\n",
    "warnings.warn('Do not show this message')"
   ]
  },
  {
   "cell_type": "markdown",
   "metadata": {},
   "source": [
    "### Consolidar Base de Dados"
   ]
  },
  {
   "cell_type": "code",
   "execution_count": 16,
   "metadata": {},
   "outputs": [],
   "source": [
    "# Dicionário criado para podermos referenciar o mês ao nome dos arquivos\n",
    "meses = {'jan':1, 'fev':2, 'mar':3, 'abr':4, 'mai':5, 'jun':6, 'jul':7 , 'ago':8, 'set': 9, 'out':10, 'nov':11, 'dez':12}\n",
    "\n",
    "caminho_bases = pathlib.Path('dataset') #nome da pasta\n",
    "\n",
    "base_airnb = pd.DataFrame() #daframe vazio que será alimentado pelo append mais abaixo no for\n",
    "\n",
    "for arquivo in caminho_bases.iterdir(): # fazendo a iteração em todos os arquivos dentro da pasta\n",
    "    nome_mes = arquivo.name[:3] # pegando os três primeiros caracteres do nome do arquivo\n",
    "    mes = meses[nome_mes] # trazendo o número do mês conforme a chave do dicionário\n",
    "\n",
    "    ano = arquivo.name[-8:] # trazendo os oito últimos caracteres do nome do arquivo\n",
    "    ano = int(ano.replace('.csv', '')) # substituindo o nome da extensão por vazio para restar apenas o ano\n",
    "\n",
    "    df = pd.read_csv(caminho_bases / arquivo.name)\n",
    "    df['ano'] = ano\n",
    "    df['mes'] = mes\n",
    "    base_airnb = base_airnb.append(df)"
   ]
  },
  {
   "cell_type": "code",
   "execution_count": 17,
   "metadata": {},
   "outputs": [
    {
     "data": {
      "text/html": [
       "<div>\n",
       "<style scoped>\n",
       "    .dataframe tbody tr th:only-of-type {\n",
       "        vertical-align: middle;\n",
       "    }\n",
       "\n",
       "    .dataframe tbody tr th {\n",
       "        vertical-align: top;\n",
       "    }\n",
       "\n",
       "    .dataframe thead th {\n",
       "        text-align: right;\n",
       "    }\n",
       "</style>\n",
       "<table border=\"1\" class=\"dataframe\">\n",
       "  <thead>\n",
       "    <tr style=\"text-align: right;\">\n",
       "      <th></th>\n",
       "      <th>id</th>\n",
       "      <th>listing_url</th>\n",
       "      <th>scrape_id</th>\n",
       "      <th>last_scraped</th>\n",
       "      <th>name</th>\n",
       "      <th>summary</th>\n",
       "      <th>space</th>\n",
       "      <th>description</th>\n",
       "      <th>experiences_offered</th>\n",
       "      <th>neighborhood_overview</th>\n",
       "      <th>...</th>\n",
       "      <th>minimum_minimum_nights</th>\n",
       "      <th>maximum_minimum_nights</th>\n",
       "      <th>minimum_maximum_nights</th>\n",
       "      <th>maximum_maximum_nights</th>\n",
       "      <th>minimum_nights_avg_ntm</th>\n",
       "      <th>maximum_nights_avg_ntm</th>\n",
       "      <th>number_of_reviews_ltm</th>\n",
       "      <th>calculated_host_listings_count_entire_homes</th>\n",
       "      <th>calculated_host_listings_count_private_rooms</th>\n",
       "      <th>calculated_host_listings_count_shared_rooms</th>\n",
       "    </tr>\n",
       "  </thead>\n",
       "  <tbody>\n",
       "    <tr>\n",
       "      <th>0</th>\n",
       "      <td>14063</td>\n",
       "      <td>https://www.airbnb.com/rooms/14063</td>\n",
       "      <td>20180713234102</td>\n",
       "      <td>2018-07-14</td>\n",
       "      <td>Living in a Postcard</td>\n",
       "      <td>Besides the most iconic's view, our apartment ...</td>\n",
       "      <td>NaN</td>\n",
       "      <td>Besides the most iconic's view, our apartment ...</td>\n",
       "      <td>none</td>\n",
       "      <td>Best and favorite neighborhood of Rio. Perfect...</td>\n",
       "      <td>...</td>\n",
       "      <td>NaN</td>\n",
       "      <td>NaN</td>\n",
       "      <td>NaN</td>\n",
       "      <td>NaN</td>\n",
       "      <td>NaN</td>\n",
       "      <td>NaN</td>\n",
       "      <td>NaN</td>\n",
       "      <td>NaN</td>\n",
       "      <td>NaN</td>\n",
       "      <td>NaN</td>\n",
       "    </tr>\n",
       "    <tr>\n",
       "      <th>1</th>\n",
       "      <td>17878</td>\n",
       "      <td>https://www.airbnb.com/rooms/17878</td>\n",
       "      <td>20180713234102</td>\n",
       "      <td>2018-07-14</td>\n",
       "      <td>Very Nice 2Br - Copacabana - WiFi</td>\n",
       "      <td>Please note that special rates apply for New Y...</td>\n",
       "      <td>- large balcony which looks out on pedestrian ...</td>\n",
       "      <td>Please note that special rates apply for New Y...</td>\n",
       "      <td>none</td>\n",
       "      <td>This is the best spot in Rio. Everything happe...</td>\n",
       "      <td>...</td>\n",
       "      <td>NaN</td>\n",
       "      <td>NaN</td>\n",
       "      <td>NaN</td>\n",
       "      <td>NaN</td>\n",
       "      <td>NaN</td>\n",
       "      <td>NaN</td>\n",
       "      <td>NaN</td>\n",
       "      <td>NaN</td>\n",
       "      <td>NaN</td>\n",
       "      <td>NaN</td>\n",
       "    </tr>\n",
       "  </tbody>\n",
       "</table>\n",
       "<p>2 rows × 108 columns</p>\n",
       "</div>"
      ],
      "text/plain": [
       "      id                         listing_url       scrape_id last_scraped  \\\n",
       "0  14063  https://www.airbnb.com/rooms/14063  20180713234102   2018-07-14   \n",
       "1  17878  https://www.airbnb.com/rooms/17878  20180713234102   2018-07-14   \n",
       "\n",
       "                                name  \\\n",
       "0               Living in a Postcard   \n",
       "1  Very Nice 2Br - Copacabana - WiFi   \n",
       "\n",
       "                                             summary  \\\n",
       "0  Besides the most iconic's view, our apartment ...   \n",
       "1  Please note that special rates apply for New Y...   \n",
       "\n",
       "                                               space  \\\n",
       "0                                                NaN   \n",
       "1  - large balcony which looks out on pedestrian ...   \n",
       "\n",
       "                                         description experiences_offered  \\\n",
       "0  Besides the most iconic's view, our apartment ...                none   \n",
       "1  Please note that special rates apply for New Y...                none   \n",
       "\n",
       "                               neighborhood_overview  ...  \\\n",
       "0  Best and favorite neighborhood of Rio. Perfect...  ...   \n",
       "1  This is the best spot in Rio. Everything happe...  ...   \n",
       "\n",
       "  minimum_minimum_nights maximum_minimum_nights minimum_maximum_nights  \\\n",
       "0                    NaN                    NaN                    NaN   \n",
       "1                    NaN                    NaN                    NaN   \n",
       "\n",
       "  maximum_maximum_nights minimum_nights_avg_ntm  maximum_nights_avg_ntm  \\\n",
       "0                    NaN                    NaN                     NaN   \n",
       "1                    NaN                    NaN                     NaN   \n",
       "\n",
       "   number_of_reviews_ltm calculated_host_listings_count_entire_homes  \\\n",
       "0                    NaN                                         NaN   \n",
       "1                    NaN                                         NaN   \n",
       "\n",
       "   calculated_host_listings_count_private_rooms  \\\n",
       "0                                           NaN   \n",
       "1                                           NaN   \n",
       "\n",
       "   calculated_host_listings_count_shared_rooms  \n",
       "0                                          NaN  \n",
       "1                                          NaN  \n",
       "\n",
       "[2 rows x 108 columns]"
      ]
     },
     "execution_count": 17,
     "metadata": {},
     "output_type": "execute_result"
    }
   ],
   "source": [
    "base_airnb.head(2)"
   ]
  },
  {
   "cell_type": "markdown",
   "metadata": {},
   "source": [
    "### Se tivermos muitas colunas, já vamos identificar quais colunas podemos excluir"
   ]
  },
  {
   "cell_type": "code",
   "execution_count": 18,
   "metadata": {},
   "outputs": [
    {
     "name": "stdout",
     "output_type": "stream",
     "text": [
      "Index(['id', 'listing_url', 'scrape_id', 'last_scraped', 'name', 'summary',\n",
      "       'space', 'description', 'experiences_offered', 'neighborhood_overview',\n",
      "       ...\n",
      "       'minimum_minimum_nights', 'maximum_minimum_nights',\n",
      "       'minimum_maximum_nights', 'maximum_maximum_nights',\n",
      "       'minimum_nights_avg_ntm', 'maximum_nights_avg_ntm',\n",
      "       'number_of_reviews_ltm', 'calculated_host_listings_count_entire_homes',\n",
      "       'calculated_host_listings_count_private_rooms',\n",
      "       'calculated_host_listings_count_shared_rooms'],\n",
      "      dtype='object', length=108)\n"
     ]
    }
   ],
   "source": [
    "print(base_airnb.columns)\n",
    "# Gerando um arquivo csv com as primeiras 1000 linhas para entendermos quais colunas excluir\n",
    "base_airnb.head(1000).to_csv('exportacoes_lab/primeiros_mil_registros.csv', sep=';', index=False)"
   ]
  },
  {
   "cell_type": "markdown",
   "metadata": {},
   "source": [
    "- Tendo em vista que existem muitas colunas no dataset, este modelo pode acabar muito lento.\n",
    "- Além disso, uma análise mais rápida permite ver que várias colunas não são necessárias para o nosso modelo de previsão, por isso, vamos excluir algumas colunas da nossa base.\n",
    "- Tipos de colunas que vamos excluir:\n",
    "    1. IDs, links e informações não relevantes para o modelo preditivo;\n",
    "    2. Colunas repetidas ou extremamente parecidas com outra (que dão a mesma informação para o modelo. Ex \"data\" e \"ano/mes\");\n",
    "    3. Colunas preenchidas com texto livre -> Não rodaremos nenhuma análise de palavras ou mineração de texto;\n",
    "    4. Colunas em que todos ou quase todos os valores são iguais\n",
    "- Para isso, vamos criar um arquivo em excel com os primeiros mil registros para analisarmos detalhamente cada coluna."
   ]
  },
  {
   "cell_type": "code",
   "execution_count": 19,
   "metadata": {},
   "outputs": [
    {
     "name": "stdout",
     "output_type": "stream",
     "text": [
      "experiences_offered\n",
      "none                   902210\n",
      "dtype: int64\n"
     ]
    }
   ],
   "source": [
    "# Verificando quantos itens temos por categoria nesta coluna do dataframe\n",
    "print(base_airnb[['experiences_offered']].value_counts())"
   ]
  },
  {
   "cell_type": "code",
   "execution_count": 20,
   "metadata": {},
   "outputs": [
    {
     "name": "stdout",
     "output_type": "stream",
     "text": [
      "True     901750\n",
      "False       460\n",
      "dtype: int64\n"
     ]
    }
   ],
   "source": [
    "# comparando se os valores das colunas são iguais ou na maioria são iguais\n",
    "print((base_airnb['host_listings_count']==base_airnb['host_total_listings_count']).value_counts())"
   ]
  },
  {
   "cell_type": "code",
   "execution_count": 21,
   "metadata": {},
   "outputs": [],
   "source": [
    "columns = ['host_response_time','host_response_rate','host_is_superhost','host_listings_count','latitude','longitude','property_type','room_type','accommodates','bathrooms','bedrooms','beds','bed_type','amenities','price','security_deposit','cleaning_fee','guests_included','extra_people','minimum_nights','number_of_reviews','review_scores_rating','review_scores_accuracy','review_scores_cleanliness','review_scores_checkin','review_scores_communication','review_scores_location','review_scores_value','instant_bookable','is_business_travel_ready','cancellation_policy','ano','mes']"
   ]
  },
  {
   "cell_type": "code",
   "execution_count": 22,
   "metadata": {},
   "outputs": [],
   "source": [
    "base_airnb_uteis = base_airnb.loc[:,columns]"
   ]
  },
  {
   "cell_type": "code",
   "execution_count": 23,
   "metadata": {},
   "outputs": [
    {
     "data": {
      "text/html": [
       "<div>\n",
       "<style scoped>\n",
       "    .dataframe tbody tr th:only-of-type {\n",
       "        vertical-align: middle;\n",
       "    }\n",
       "\n",
       "    .dataframe tbody tr th {\n",
       "        vertical-align: top;\n",
       "    }\n",
       "\n",
       "    .dataframe thead th {\n",
       "        text-align: right;\n",
       "    }\n",
       "</style>\n",
       "<table border=\"1\" class=\"dataframe\">\n",
       "  <thead>\n",
       "    <tr style=\"text-align: right;\">\n",
       "      <th></th>\n",
       "      <th>host_response_time</th>\n",
       "      <th>host_response_rate</th>\n",
       "      <th>host_is_superhost</th>\n",
       "      <th>host_listings_count</th>\n",
       "      <th>latitude</th>\n",
       "      <th>longitude</th>\n",
       "      <th>property_type</th>\n",
       "      <th>room_type</th>\n",
       "      <th>accommodates</th>\n",
       "      <th>bathrooms</th>\n",
       "      <th>...</th>\n",
       "      <th>review_scores_cleanliness</th>\n",
       "      <th>review_scores_checkin</th>\n",
       "      <th>review_scores_communication</th>\n",
       "      <th>review_scores_location</th>\n",
       "      <th>review_scores_value</th>\n",
       "      <th>instant_bookable</th>\n",
       "      <th>is_business_travel_ready</th>\n",
       "      <th>cancellation_policy</th>\n",
       "      <th>ano</th>\n",
       "      <th>mes</th>\n",
       "    </tr>\n",
       "  </thead>\n",
       "  <tbody>\n",
       "    <tr>\n",
       "      <th>0</th>\n",
       "      <td>NaN</td>\n",
       "      <td>NaN</td>\n",
       "      <td>f</td>\n",
       "      <td>1.0</td>\n",
       "      <td>-22.946854</td>\n",
       "      <td>-43.182737</td>\n",
       "      <td>Apartment</td>\n",
       "      <td>Entire home/apt</td>\n",
       "      <td>4</td>\n",
       "      <td>1.0</td>\n",
       "      <td>...</td>\n",
       "      <td>9.0</td>\n",
       "      <td>9.0</td>\n",
       "      <td>9.0</td>\n",
       "      <td>9.0</td>\n",
       "      <td>9.0</td>\n",
       "      <td>f</td>\n",
       "      <td>f</td>\n",
       "      <td>strict_14_with_grace_period</td>\n",
       "      <td>2018</td>\n",
       "      <td>7</td>\n",
       "    </tr>\n",
       "    <tr>\n",
       "      <th>1</th>\n",
       "      <td>within an hour</td>\n",
       "      <td>100%</td>\n",
       "      <td>f</td>\n",
       "      <td>2.0</td>\n",
       "      <td>-22.965919</td>\n",
       "      <td>-43.178962</td>\n",
       "      <td>Condominium</td>\n",
       "      <td>Entire home/apt</td>\n",
       "      <td>5</td>\n",
       "      <td>1.0</td>\n",
       "      <td>...</td>\n",
       "      <td>9.0</td>\n",
       "      <td>10.0</td>\n",
       "      <td>10.0</td>\n",
       "      <td>9.0</td>\n",
       "      <td>9.0</td>\n",
       "      <td>t</td>\n",
       "      <td>f</td>\n",
       "      <td>strict_14_with_grace_period</td>\n",
       "      <td>2018</td>\n",
       "      <td>7</td>\n",
       "    </tr>\n",
       "  </tbody>\n",
       "</table>\n",
       "<p>2 rows × 33 columns</p>\n",
       "</div>"
      ],
      "text/plain": [
       "  host_response_time host_response_rate host_is_superhost  \\\n",
       "0                NaN                NaN                 f   \n",
       "1     within an hour               100%                 f   \n",
       "\n",
       "   host_listings_count   latitude  longitude property_type        room_type  \\\n",
       "0                  1.0 -22.946854 -43.182737     Apartment  Entire home/apt   \n",
       "1                  2.0 -22.965919 -43.178962   Condominium  Entire home/apt   \n",
       "\n",
       "   accommodates  bathrooms  ...  review_scores_cleanliness  \\\n",
       "0             4        1.0  ...                        9.0   \n",
       "1             5        1.0  ...                        9.0   \n",
       "\n",
       "   review_scores_checkin review_scores_communication review_scores_location  \\\n",
       "0                    9.0                         9.0                    9.0   \n",
       "1                   10.0                        10.0                    9.0   \n",
       "\n",
       "  review_scores_value instant_bookable is_business_travel_ready  \\\n",
       "0                 9.0                f                        f   \n",
       "1                 9.0                t                        f   \n",
       "\n",
       "           cancellation_policy   ano  mes  \n",
       "0  strict_14_with_grace_period  2018    7  \n",
       "1  strict_14_with_grace_period  2018    7  \n",
       "\n",
       "[2 rows x 33 columns]"
      ]
     },
     "execution_count": 23,
     "metadata": {},
     "output_type": "execute_result"
    }
   ],
   "source": [
    "base_airnb_uteis.head(2)"
   ]
  },
  {
   "cell_type": "markdown",
   "metadata": {},
   "source": [
    "### Tratar Valores Faltando\n",
    "\n",
    "Visualizando os dados, percebemos que há colunas com muitos valores nulos. Como decisão para análise, excluiremos todas as colunas que possuem mais de 300 mil linhas com valores nulos."
   ]
  },
  {
   "cell_type": "code",
   "execution_count": 24,
   "metadata": {},
   "outputs": [
    {
     "name": "stdout",
     "output_type": "stream",
     "text": [
      "host_is_superhost            460\n",
      "host_listings_count          460\n",
      "latitude                       0\n",
      "longitude                      0\n",
      "property_type                  0\n",
      "room_type                      0\n",
      "accommodates                   0\n",
      "bathrooms                   1724\n",
      "bedrooms                     850\n",
      "beds                        2502\n",
      "bed_type                       0\n",
      "amenities                      0\n",
      "price                          0\n",
      "guests_included                0\n",
      "extra_people                   0\n",
      "minimum_nights                 0\n",
      "number_of_reviews              0\n",
      "instant_bookable               0\n",
      "is_business_travel_ready       0\n",
      "cancellation_policy            0\n",
      "ano                            0\n",
      "mes                            0\n",
      "dtype: int64\n"
     ]
    }
   ],
   "source": [
    "#Excluindo as colunas com linhas com valores nulos acima de 300 mil\n",
    "\n",
    "for coluna in base_airnb_uteis:\n",
    "    if base_airnb_uteis[coluna].isnull().sum() > 300_000:\n",
    "        base_airnb_uteis = base_airnb_uteis.drop(coluna, axis=1)\n",
    "\n",
    "print(base_airnb_uteis.isnull().sum())"
   ]
  },
  {
   "cell_type": "code",
   "execution_count": 25,
   "metadata": {},
   "outputs": [
    {
     "name": "stdout",
     "output_type": "stream",
     "text": [
      "(902210, 22)\n"
     ]
    }
   ],
   "source": [
    "print(base_airnb_uteis.shape) # Visualizando quantas linhas e colunas o dataframe tem"
   ]
  },
  {
   "cell_type": "code",
   "execution_count": 26,
   "metadata": {},
   "outputs": [
    {
     "name": "stdout",
     "output_type": "stream",
     "text": [
      "(897709, 22)\n"
     ]
    }
   ],
   "source": [
    "base_airnb_uteis = base_airnb_uteis.dropna() # Excluindo linhas com valores nulos (para os casos que possuem apenas na casa de milhares)\n",
    "print(base_airnb_uteis.shape)"
   ]
  },
  {
   "cell_type": "code",
   "execution_count": 27,
   "metadata": {},
   "outputs": [
    {
     "name": "stdout",
     "output_type": "stream",
     "text": [
      "host_is_superhost           0\n",
      "host_listings_count         0\n",
      "latitude                    0\n",
      "longitude                   0\n",
      "property_type               0\n",
      "room_type                   0\n",
      "accommodates                0\n",
      "bathrooms                   0\n",
      "bedrooms                    0\n",
      "beds                        0\n",
      "bed_type                    0\n",
      "amenities                   0\n",
      "price                       0\n",
      "guests_included             0\n",
      "extra_people                0\n",
      "minimum_nights              0\n",
      "number_of_reviews           0\n",
      "instant_bookable            0\n",
      "is_business_travel_ready    0\n",
      "cancellation_policy         0\n",
      "ano                         0\n",
      "mes                         0\n",
      "dtype: int64\n"
     ]
    }
   ],
   "source": [
    "print(base_airnb_uteis.isnull().sum())"
   ]
  },
  {
   "cell_type": "markdown",
   "metadata": {},
   "source": [
    "### Verificar Tipos de Dados em cada coluna"
   ]
  },
  {
   "cell_type": "code",
   "execution_count": 31,
   "metadata": {},
   "outputs": [
    {
     "name": "stdout",
     "output_type": "stream",
     "text": [
      "host_is_superhost            object\n",
      "host_listings_count         float64\n",
      "latitude                    float64\n",
      "longitude                   float64\n",
      "property_type                object\n",
      "room_type                    object\n",
      "accommodates                  int64\n",
      "bathrooms                   float64\n",
      "bedrooms                    float64\n",
      "beds                        float64\n",
      "bed_type                     object\n",
      "amenities                    object\n",
      "price                        object\n",
      "guests_included               int64\n",
      "extra_people                 object\n",
      "minimum_nights                int64\n",
      "number_of_reviews             int64\n",
      "instant_bookable             object\n",
      "is_business_travel_ready     object\n",
      "cancellation_policy          object\n",
      "ano                           int64\n",
      "mes                           int64\n",
      "dtype: object\n"
     ]
    }
   ],
   "source": [
    "print(base_airnb_uteis.dtypes)\n"
   ]
  },
  {
   "cell_type": "code",
   "execution_count": 32,
   "metadata": {},
   "outputs": [
    {
     "name": "stdout",
     "output_type": "stream",
     "text": [
      "host_is_superhost                                                           f\n",
      "host_listings_count                                                       1.0\n",
      "latitude                                                           -22.946854\n",
      "longitude                                                          -43.182737\n",
      "property_type                                                       Apartment\n",
      "room_type                                                     Entire home/apt\n",
      "accommodates                                                                4\n",
      "bathrooms                                                                 1.0\n",
      "bedrooms                                                                  0.0\n",
      "beds                                                                      2.0\n",
      "bed_type                                                             Real Bed\n",
      "amenities                   {TV,Internet,\"Air conditioning\",Kitchen,Doorma...\n",
      "price                                                                 $151.00\n",
      "guests_included                                                             2\n",
      "extra_people                                                           $39.00\n",
      "minimum_nights                                                             60\n",
      "number_of_reviews                                                          38\n",
      "instant_bookable                                                            f\n",
      "is_business_travel_ready                                                    f\n",
      "cancellation_policy                               strict_14_with_grace_period\n",
      "ano                                                                      2018\n",
      "mes                                                                         7\n",
      "Name: 0, dtype: object\n"
     ]
    }
   ],
   "source": [
    "print(base_airnb_uteis.iloc[0])"
   ]
  },
  {
   "cell_type": "markdown",
   "metadata": {},
   "source": [
    "Como price e extra_people estão sendo lidas como string (object), precisaremos trabalhar esses dados para que sejam lidos como float"
   ]
  },
  {
   "cell_type": "code",
   "execution_count": 34,
   "metadata": {},
   "outputs": [],
   "source": [
    "#corrigindo a coluna price\n",
    "base_airnb_uteis['price'] = base_airnb_uteis['price'].str.replace('$', '')\n",
    "base_airnb_uteis['price'] = base_airnb_uteis['price'].str.replace(',', '')\n",
    "base_airnb_uteis['price'] = base_airnb_uteis['price'].astype(np.float32, copy=False)\n",
    "\n",
    "#Corrigindo a coluna extra_people\n",
    "base_airnb_uteis['extra_people'] = base_airnb_uteis['extra_people'].str.replace('$', '')\n",
    "base_airnb_uteis['extra_people'] = base_airnb_uteis['extra_people'].str.replace(',', '')\n",
    "base_airnb_uteis['extra_people'] = base_airnb_uteis['extra_people'].astype(np.float32, copy=False)"
   ]
  },
  {
   "cell_type": "code",
   "execution_count": 35,
   "metadata": {},
   "outputs": [
    {
     "name": "stdout",
     "output_type": "stream",
     "text": [
      "host_is_superhost            object\n",
      "host_listings_count         float64\n",
      "latitude                    float64\n",
      "longitude                   float64\n",
      "property_type                object\n",
      "room_type                    object\n",
      "accommodates                  int64\n",
      "bathrooms                   float64\n",
      "bedrooms                    float64\n",
      "beds                        float64\n",
      "bed_type                     object\n",
      "amenities                    object\n",
      "price                       float32\n",
      "guests_included               int64\n",
      "extra_people                float32\n",
      "minimum_nights                int64\n",
      "number_of_reviews             int64\n",
      "instant_bookable             object\n",
      "is_business_travel_ready     object\n",
      "cancellation_policy          object\n",
      "ano                           int64\n",
      "mes                           int64\n",
      "dtype: object\n"
     ]
    }
   ],
   "source": [
    "print(base_airnb_uteis.dtypes)"
   ]
  },
  {
   "cell_type": "markdown",
   "metadata": {},
   "source": [
    "### Análise Exploratória e Tratar Outliers"
   ]
  },
  {
   "cell_type": "code",
   "execution_count": null,
   "metadata": {},
   "outputs": [],
   "source": []
  },
  {
   "cell_type": "markdown",
   "metadata": {},
   "source": [
    "### Encoding"
   ]
  },
  {
   "cell_type": "code",
   "execution_count": null,
   "metadata": {},
   "outputs": [],
   "source": []
  },
  {
   "cell_type": "markdown",
   "metadata": {},
   "source": [
    "### Modelo de Previsão"
   ]
  },
  {
   "cell_type": "code",
   "execution_count": null,
   "metadata": {},
   "outputs": [],
   "source": []
  },
  {
   "cell_type": "markdown",
   "metadata": {},
   "source": [
    "### Análise do Melhor Modelo"
   ]
  },
  {
   "cell_type": "code",
   "execution_count": null,
   "metadata": {},
   "outputs": [],
   "source": []
  },
  {
   "cell_type": "markdown",
   "metadata": {},
   "source": [
    "### Ajustes e Melhorias no Melhor Modelo"
   ]
  },
  {
   "cell_type": "code",
   "execution_count": null,
   "metadata": {},
   "outputs": [],
   "source": []
  }
 ],
 "metadata": {
  "kernelspec": {
   "display_name": "Python 3",
   "language": "python",
   "name": "python3"
  },
  "language_info": {
   "codemirror_mode": {
    "name": "ipython",
    "version": 3
   },
   "file_extension": ".py",
   "mimetype": "text/x-python",
   "name": "python",
   "nbconvert_exporter": "python",
   "pygments_lexer": "ipython3",
   "version": "3.9.7"
  }
 },
 "nbformat": 4,
 "nbformat_minor": 4
}
